{
 "cells": [
  {
   "cell_type": "markdown",
   "metadata": {},
   "source": [
    "# Distância Euclidiana"
   ]
  },
  {
   "cell_type": "markdown",
   "metadata": {},
   "source": [
    "## Sobre a Distância Euclidiana\n",
    "A Distância Euclidiana é a medida calculada entre dois pontos no espaço. No contexto de machine learning cálculos de distância são ferrametas comumente utilizadas na análise de similaridades entre dados. Algoritmos como K-Mean e KNN são exemplos de algoritmos que utilizam esse método."
   ]
  },
  {
   "cell_type": "markdown",
   "metadata": {},
   "source": [
    "## Calculando a Distância Euclidiana com Python"
   ]
  },
  {
   "cell_type": "code",
   "execution_count": 1,
   "metadata": {},
   "outputs": [],
   "source": [
    "# Utilizaremos a biblioteca SCiPy para calcular a distância\n",
    "from scipy.spatial import distance"
   ]
  },
  {
   "cell_type": "code",
   "execution_count": 12,
   "metadata": {},
   "outputs": [],
   "source": [
    "# Definindo alguns pontos para trabalharmos\n",
    "A = (0,2)\n",
    "B = (1,2)\n",
    "C = (0,0)\n",
    "D = (3,0)\n",
    "E = (3,4)"
   ]
  },
  {
   "cell_type": "code",
   "execution_count": 13,
   "metadata": {},
   "outputs": [
    {
     "name": "stdout",
     "output_type": "stream",
     "text": [
      "Distância:  1.0\n"
     ]
    }
   ],
   "source": [
    "# Calculando a distância entre os pontos A e B.\n",
    "dAB = distance.euclidean(A,B)\n",
    "print(\"Distância: \", dAB)"
   ]
  },
  {
   "cell_type": "code",
   "execution_count": 14,
   "metadata": {},
   "outputs": [
    {
     "name": "stdout",
     "output_type": "stream",
     "text": [
      "Distância:  5.0\n"
     ]
    }
   ],
   "source": [
    "# Calculando a distância entre os pontos C e E\n",
    "dCE = distance.euclidean(C,E)\n",
    "print(\"Distância: \", dCE)"
   ]
  },
  {
   "cell_type": "markdown",
   "metadata": {},
   "source": [
    "No primeiro exemplo calculamos o valor da distância, ou o tamanho da reta, entre os pontos A e B. No segundo exemplo usamos o conhecido triângulo retângulo de catetos 3 e 4, com hipotenusa 5, para demonstrar que a distância euclidiana pode ser provada utilizando o Teorema de Pitágoras."
   ]
  },
  {
   "cell_type": "markdown",
   "metadata": {},
   "source": [
    "## Calculando Distâncias N-Dimensionais"
   ]
  },
  {
   "cell_type": "markdown",
   "metadata": {},
   "source": [
    "A Distância Euclidiana não se limita ao plano bi-dimensional, podendo ser usado em N-Dimensões."
   ]
  },
  {
   "cell_type": "code",
   "execution_count": 20,
   "metadata": {},
   "outputs": [
    {
     "name": "stdout",
     "output_type": "stream",
     "text": [
      "Distância:  2.0\n"
     ]
    }
   ],
   "source": [
    "F = (0,0,1)\n",
    "G = (0,0,3)\n",
    "\n",
    "dFG = distance.euclidean(F,G)\n",
    "print(\"Distância: \", dFG)"
   ]
  },
  {
   "cell_type": "code",
   "execution_count": 22,
   "metadata": {},
   "outputs": [
    {
     "name": "stdout",
     "output_type": "stream",
     "text": [
      "Distância:  2.0\n"
     ]
    }
   ],
   "source": [
    "H = (0,0,1,2)\n",
    "I = (0,0,3,2)\n",
    "\n",
    "dHI = distance.euclidean(H,I)\n",
    "print(\"Distância: \", dHI)"
   ]
  },
  {
   "cell_type": "code",
   "execution_count": 23,
   "metadata": {},
   "outputs": [
    {
     "name": "stdout",
     "output_type": "stream",
     "text": [
      "Distância:  2.0\n"
     ]
    }
   ],
   "source": [
    "J = (0,0,1,2,4)\n",
    "K = (0,0,3,2,4)\n",
    "\n",
    "dJK = distance.euclidean(J,K)\n",
    "print(\"Distância: \", dJK)"
   ]
  },
  {
   "cell_type": "markdown",
   "metadata": {},
   "source": [
    "## Utilização em Classificação"
   ]
  },
  {
   "cell_type": "markdown",
   "metadata": {},
   "source": [
    "Será que esse método pode responder a seguinte pergunta: Os consumidores C1, C2 e C3 tiveram suas compras verificadas e rotuladas com variáveis categóricas conforme vemos abaixo.\n",
    "\n",
    "C1 = {pão, queijo, leite, café, margarina}\n",
    "C2 = {pão, margarina, bolacha, leite, café}\n",
    "C3 = {suco de laranja, melão, leite, queijo, mel}\n",
    "C4 = {melão, maça, café, queijo, leite}\n",
    "\n",
    "Pensando que consumidores com hábitos de consumo parecidos podem ser classificados em um mesmo grupo você diria que:\n",
    "\n",
    "C1 é do mesmo grupo de C2?\n",
    "C2 é do mesmo grupo de C3?\n",
    "C3 é do mesmo grupo de C1?"
   ]
  },
  {
   "cell_type": "code",
   "execution_count": null,
   "metadata": {},
   "outputs": [],
   "source": []
  },
  {
   "cell_type": "markdown",
   "metadata": {},
   "source": [
    "Cabe deixar claro que para o problema acima o uso de Distância Euclidiana não é "
   ]
  }
 ],
 "metadata": {
  "kernelspec": {
   "display_name": "Python 3",
   "language": "python",
   "name": "python3"
  },
  "language_info": {
   "codemirror_mode": {
    "name": "ipython",
    "version": 3
   },
   "file_extension": ".py",
   "mimetype": "text/x-python",
   "name": "python",
   "nbconvert_exporter": "python",
   "pygments_lexer": "ipython3",
   "version": "3.7.0"
  }
 },
 "nbformat": 4,
 "nbformat_minor": 2
}
